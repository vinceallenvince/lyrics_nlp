{
 "cells": [
  {
   "cell_type": "code",
   "execution_count": 33,
   "metadata": {
    "collapsed": true
   },
   "outputs": [],
   "source": [
    "import numpy as np\n",
    "import pandas as pd\n",
    "import nltk\n",
    "import re\n",
    "import os\n",
    "import codecs\n",
    "import random\n",
    "from sklearn import feature_extraction\n",
    "from nltk.corpus.reader import CategorizedPlaintextCorpusReader"
   ]
  },
  {
   "cell_type": "markdown",
   "metadata": {},
   "source": [
    "### Stopwords, stemming, and tokenizing"
   ]
  },
  {
   "cell_type": "code",
   "execution_count": 34,
   "metadata": {
    "collapsed": false
   },
   "outputs": [],
   "source": [
    "corpus = CategorizedPlaintextCorpusReader(\"./corpus/lyrics/tokenized/\", r\".*\\.txt\", cat_pattern=r\"(\\w+)/*\")"
   ]
  },
  {
   "cell_type": "code",
   "execution_count": 35,
   "metadata": {
    "collapsed": false
   },
   "outputs": [],
   "source": [
    "total_tracks_to_cluster = 50"
   ]
  },
  {
   "cell_type": "code",
   "execution_count": 36,
   "metadata": {
    "collapsed": false
   },
   "outputs": [],
   "source": [
    "tracks_all = []\n",
    "for x in range(0, len(corpus.fileids())):\n",
    "    tracks_all.append(corpus.raw(corpus.fileids()[x]))"
   ]
  },
  {
   "cell_type": "code",
   "execution_count": 37,
   "metadata": {
    "collapsed": false
   },
   "outputs": [],
   "source": [
    "len(tracks_all)\n",
    "track_idx = random.sample(xrange(len(tracks_all)), total_tracks_to_cluster)"
   ]
  },
  {
   "cell_type": "code",
   "execution_count": 38,
   "metadata": {
    "collapsed": false
   },
   "outputs": [],
   "source": [
    "tracks = []\n",
    "for i in range(0,len(track_idx)):\n",
    "    tracks.append(tracks_all[track_idx[i]])"
   ]
  },
  {
   "cell_type": "code",
   "execution_count": 39,
   "metadata": {
    "collapsed": false
   },
   "outputs": [],
   "source": [
    "# generates index for each item in the corpora (in this case it's just rank) and I'll use this for scoring later\n",
    "ranks = []\n",
    "for i in range(0,len(tracks)):\n",
    "    ranks.append(i)"
   ]
  },
  {
   "cell_type": "code",
   "execution_count": 40,
   "metadata": {
    "collapsed": false
   },
   "outputs": [
    {
     "data": {
      "text/plain": [
       "['7CbtzSjCBFm4LdFGgnE6ge.txt.txt',\n",
       " '1aDzvUL7spSjeDpGtCMoGu.txt.txt',\n",
       " '0Avmi9t3sOcaGSs1DSbgDg.txt.txt',\n",
       " '4QfcqFDd5qQDK3YOZ0Ia8K.txt.txt',\n",
       " '6YQkya82b7rjiho4cFbS8k.txt.txt']"
      ]
     },
     "execution_count": 40,
     "metadata": {},
     "output_type": "execute_result"
    }
   ],
   "source": [
    "track_names = []\n",
    "for i in range(0,len(track_idx)):\n",
    "    track_names.append(corpus.fileids()[track_idx[i]])\n",
    "track_names[:5]"
   ]
  },
  {
   "cell_type": "code",
   "execution_count": 41,
   "metadata": {
    "collapsed": true
   },
   "outputs": [],
   "source": [
    "stopwords = nltk.corpus.stopwords.words('english')"
   ]
  },
  {
   "cell_type": "code",
   "execution_count": 42,
   "metadata": {
    "collapsed": true
   },
   "outputs": [],
   "source": [
    "from nltk.stem.snowball import SnowballStemmer\n",
    "stemmer = SnowballStemmer(\"english\")"
   ]
  },
  {
   "cell_type": "code",
   "execution_count": 43,
   "metadata": {
    "collapsed": true
   },
   "outputs": [],
   "source": [
    "# here I define a tokenizer and stemmer which returns the set of stems in the text that it is passed\n",
    "\n",
    "def tokenize_and_stem(text):\n",
    "    # first tokenize by sentence, then by word to ensure that punctuation is caught as it's own token\n",
    "    tokens = [word for sent in nltk.sent_tokenize(text) for word in nltk.word_tokenize(sent)]\n",
    "    filtered_tokens = []\n",
    "    # filter out any tokens not containing letters (e.g., numeric tokens, raw punctuation)\n",
    "    for token in tokens:\n",
    "        if re.search('[a-zA-Z]', token):\n",
    "            filtered_tokens.append(token)\n",
    "    stems = [stemmer.stem(t) for t in filtered_tokens]\n",
    "    return stems\n",
    "\n",
    "\n",
    "def tokenize_only(text):\n",
    "    # first tokenize by sentence, then by word to ensure that punctuation is caught as it's own token\n",
    "    tokens = [word.lower() for sent in nltk.sent_tokenize(text) for word in nltk.word_tokenize(sent)]\n",
    "    filtered_tokens = []\n",
    "    # filter out any tokens not containing letters (e.g., numeric tokens, raw punctuation)\n",
    "    for token in tokens:\n",
    "        if re.search('[a-zA-Z]', token):\n",
    "            filtered_tokens.append(token)\n",
    "    return filtered_tokens"
   ]
  },
  {
   "cell_type": "code",
   "execution_count": 44,
   "metadata": {
    "collapsed": false
   },
   "outputs": [],
   "source": [
    "totalvocab_stemmed = []\n",
    "totalvocab_tokenized = []\n",
    "for track in tracks:\n",
    "    allwords_stemmed = tokenize_and_stem(track)\n",
    "    totalvocab_stemmed.extend(allwords_stemmed)\n",
    "    \n",
    "    allwords_tokenized = tokenize_only(track)\n",
    "    totalvocab_tokenized.extend(allwords_tokenized)"
   ]
  },
  {
   "cell_type": "code",
   "execution_count": 45,
   "metadata": {
    "collapsed": false
   },
   "outputs": [
    {
     "data": {
      "text/html": [
       "<div>\n",
       "<table border=\"1\" class=\"dataframe\">\n",
       "  <thead>\n",
       "    <tr style=\"text-align: right;\">\n",
       "      <th></th>\n",
       "      <th>words</th>\n",
       "    </tr>\n",
       "  </thead>\n",
       "  <tbody>\n",
       "    <tr>\n",
       "      <th>beauti</th>\n",
       "      <td>beautiful</td>\n",
       "    </tr>\n",
       "    <tr>\n",
       "      <th>thought</th>\n",
       "      <td>thought</td>\n",
       "    </tr>\n",
       "    <tr>\n",
       "      <th>think</th>\n",
       "      <td>thinking</td>\n",
       "    </tr>\n",
       "    <tr>\n",
       "      <th>concern</th>\n",
       "      <td>concerning</td>\n",
       "    </tr>\n",
       "    <tr>\n",
       "      <th>great</th>\n",
       "      <td>great</td>\n",
       "    </tr>\n",
       "  </tbody>\n",
       "</table>\n",
       "</div>"
      ],
      "text/plain": [
       "              words\n",
       "beauti    beautiful\n",
       "thought     thought\n",
       "think      thinking\n",
       "concern  concerning\n",
       "great         great"
      ]
     },
     "execution_count": 45,
     "metadata": {},
     "output_type": "execute_result"
    }
   ],
   "source": [
    "vocab_frame = pd.DataFrame({'words': totalvocab_tokenized}, index = totalvocab_stemmed)\n",
    "vocab_frame.head()"
   ]
  },
  {
   "cell_type": "markdown",
   "metadata": {},
   "source": [
    "### Tf-idf and document similarity"
   ]
  },
  {
   "cell_type": "code",
   "execution_count": 46,
   "metadata": {
    "collapsed": false
   },
   "outputs": [
    {
     "name": "stdout",
     "output_type": "stream",
     "text": [
      "CPU times: user 279 ms, sys: 14.3 ms, total: 293 ms\n",
      "Wall time: 296 ms\n",
      "(50, 27)\n"
     ]
    }
   ],
   "source": [
    "from sklearn.feature_extraction.text import TfidfVectorizer\n",
    "\n",
    "tfidf_vectorizer = TfidfVectorizer(max_df=0.8, max_features=2000000,\n",
    "                                 min_df=0.2, stop_words='english',\n",
    "                                 use_idf=True, tokenizer=tokenize_and_stem, ngram_range=(1,3))\n",
    "\n",
    "%time tfidf_matrix = tfidf_vectorizer.fit_transform(tracks)\n",
    "\n",
    "print(tfidf_matrix.shape)"
   ]
  },
  {
   "cell_type": "code",
   "execution_count": 47,
   "metadata": {
    "collapsed": true
   },
   "outputs": [],
   "source": [
    "terms = tfidf_vectorizer.get_feature_names()"
   ]
  },
  {
   "cell_type": "code",
   "execution_count": 48,
   "metadata": {
    "collapsed": false
   },
   "outputs": [
    {
     "data": {
      "text/plain": [
       "[u'alon',\n",
       " u'away',\n",
       " u'blue',\n",
       " u'come',\n",
       " u'cri',\n",
       " u'day',\n",
       " u'eye',\n",
       " u'good',\n",
       " u'got',\n",
       " u'heart']"
      ]
     },
     "execution_count": 48,
     "metadata": {},
     "output_type": "execute_result"
    }
   ],
   "source": [
    "terms[:10]"
   ]
  },
  {
   "cell_type": "code",
   "execution_count": 49,
   "metadata": {
    "collapsed": true
   },
   "outputs": [],
   "source": [
    "from sklearn.metrics.pairwise import cosine_similarity\n",
    "dist = 1 - cosine_similarity(tfidf_matrix)"
   ]
  },
  {
   "cell_type": "markdown",
   "metadata": {},
   "source": [
    "### K-means clustering"
   ]
  },
  {
   "cell_type": "code",
   "execution_count": 50,
   "metadata": {
    "collapsed": false
   },
   "outputs": [
    {
     "name": "stdout",
     "output_type": "stream",
     "text": [
      "CPU times: user 85.9 ms, sys: 4.33 ms, total: 90.3 ms\n",
      "Wall time: 110 ms\n"
     ]
    }
   ],
   "source": [
    "from sklearn.cluster import KMeans\n",
    "\n",
    "num_clusters = 4\n",
    "km = KMeans(n_clusters=num_clusters)\n",
    "%time km.fit(tfidf_matrix)\n",
    "clusters = km.labels_.tolist()"
   ]
  },
  {
   "cell_type": "code",
   "execution_count": 51,
   "metadata": {
    "collapsed": false
   },
   "outputs": [],
   "source": [
    "from sklearn.externals import joblib\n",
    "\n",
    "joblib.dump(km,  'doc_cluster.pkl')\n",
    "km = joblib.load('doc_cluster.pkl')\n",
    "clusters = km.labels_.tolist()"
   ]
  },
  {
   "cell_type": "code",
   "execution_count": 52,
   "metadata": {
    "collapsed": false
   },
   "outputs": [
    {
     "data": {
      "text/html": [
       "<div>\n",
       "<table border=\"1\" class=\"dataframe\">\n",
       "  <thead>\n",
       "    <tr style=\"text-align: right;\">\n",
       "      <th></th>\n",
       "      <th>rank</th>\n",
       "      <th>title</th>\n",
       "      <th>cluster</th>\n",
       "    </tr>\n",
       "  </thead>\n",
       "  <tbody>\n",
       "    <tr>\n",
       "      <th>0</th>\n",
       "      <td>0</td>\n",
       "      <td>7CbtzSjCBFm4LdFGgnE6ge.txt.txt</td>\n",
       "      <td>0</td>\n",
       "    </tr>\n",
       "    <tr>\n",
       "      <th>2</th>\n",
       "      <td>1</td>\n",
       "      <td>1aDzvUL7spSjeDpGtCMoGu.txt.txt</td>\n",
       "      <td>2</td>\n",
       "    </tr>\n",
       "    <tr>\n",
       "      <th>0</th>\n",
       "      <td>2</td>\n",
       "      <td>0Avmi9t3sOcaGSs1DSbgDg.txt.txt</td>\n",
       "      <td>0</td>\n",
       "    </tr>\n",
       "    <tr>\n",
       "      <th>2</th>\n",
       "      <td>3</td>\n",
       "      <td>4QfcqFDd5qQDK3YOZ0Ia8K.txt.txt</td>\n",
       "      <td>2</td>\n",
       "    </tr>\n",
       "    <tr>\n",
       "      <th>0</th>\n",
       "      <td>4</td>\n",
       "      <td>6YQkya82b7rjiho4cFbS8k.txt.txt</td>\n",
       "      <td>0</td>\n",
       "    </tr>\n",
       "  </tbody>\n",
       "</table>\n",
       "</div>"
      ],
      "text/plain": [
       "   rank                           title  cluster\n",
       "0     0  7CbtzSjCBFm4LdFGgnE6ge.txt.txt        0\n",
       "2     1  1aDzvUL7spSjeDpGtCMoGu.txt.txt        2\n",
       "0     2  0Avmi9t3sOcaGSs1DSbgDg.txt.txt        0\n",
       "2     3  4QfcqFDd5qQDK3YOZ0Ia8K.txt.txt        2\n",
       "0     4  6YQkya82b7rjiho4cFbS8k.txt.txt        0"
      ]
     },
     "execution_count": 52,
     "metadata": {},
     "output_type": "execute_result"
    }
   ],
   "source": [
    "import pandas as pd\n",
    "\n",
    "tracks = { 'title': track_names, 'rank': ranks, 'track': tracks, 'cluster': clusters }\n",
    "frame = pd.DataFrame(tracks, index = [clusters],\n",
    "                     columns = ['rank', 'title', 'cluster'])\n",
    "frame.head()"
   ]
  },
  {
   "cell_type": "code",
   "execution_count": 53,
   "metadata": {
    "collapsed": false
   },
   "outputs": [
    {
     "data": {
      "text/plain": [
       "2    18\n",
       "3    13\n",
       "0    12\n",
       "1     7\n",
       "Name: cluster, dtype: int64"
      ]
     },
     "execution_count": 53,
     "metadata": {},
     "output_type": "execute_result"
    }
   ],
   "source": [
    "# This is the count of songs per cluster\n",
    "frame['cluster'].value_counts()"
   ]
  },
  {
   "cell_type": "code",
   "execution_count": 54,
   "metadata": {
    "collapsed": false
   },
   "outputs": [
    {
     "data": {
      "text/plain": [
       "cluster\n",
       "0    21.416667\n",
       "1    27.714286\n",
       "2    25.000000\n",
       "3    24.923077\n",
       "Name: rank, dtype: float64"
      ]
     },
     "execution_count": 54,
     "metadata": {},
     "output_type": "execute_result"
    }
   ],
   "source": [
    "grouped = frame['rank'].groupby(frame['cluster'])\n",
    "grouped.mean()"
   ]
  },
  {
   "cell_type": "code",
   "execution_count": 55,
   "metadata": {
    "collapsed": false
   },
   "outputs": [
    {
     "name": "stdout",
     "output_type": "stream",
     "text": [
      "Top terms per cluster:\n",
      "\n",
      "Cluster 0 words: know, tell, man, heart, away, want,\n",
      "Cluster 0 titles: 7CbtzSjCBFm4LdFGgnE6ge.txt.txt, 0Avmi9t3sOcaGSs1DSbgDg.txt.txt, 6YQkya82b7rjiho4cFbS8k.txt.txt, 77v6sQU1cByaXJsX0t3yjG.txt.txt, 5J65xr8NkvpHy9RkxzSUAO.txt.txt, 5WPUS2sEa1ZMQWjSAsGERs.txt.txt, 1Dp9VyBsH3KDRk1LbaL0gs.txt.txt, 76VZYZ3LsrS4fKYEMSYPXw.txt.txt, 036B7lKiRkLerLGI6EHtEr.txt.txt, 3ty6IIfuP0fXZ1XZDqQXmf.txt.txt, 3A3kg1SK2gpHNPZJmXpfTv.txt.txt, 0doe6BX5PtV8BDH0IffSdQ.txt.txt,\n",
      "\n",
      "Cluster 1 words: love, heart, time, coming, alone, makes,\n",
      "Cluster 1 titles: 2XnijEio1FOITUTzbwFpBM.txt.txt, 10QGw1IQGLaslKp5liNkNL.txt.txt, 19uCyfUQnRgOAXVUAczJYe.txt.txt, 6aBUYjmcolzTWtssjzryAP.txt.txt, 2RKAz2YBhNAkCSJjGAUrFd.txt.txt, 5yrEDH9bh0UgOoCwS7NmKZ.txt.txt, 7eD67wTnw9rCvwtkvaTS3M.txt.txt,\n",
      "\n",
      "Cluster 2 words: got, time, makes, day, coming, blue,\n",
      "Cluster 2 titles: 1aDzvUL7spSjeDpGtCMoGu.txt.txt, 4QfcqFDd5qQDK3YOZ0Ia8K.txt.txt, 0KSHmjK7OFtGocvbo7NZNO.txt.txt, 0FR4Ua3VxoSVA7DOFtdPlO.txt.txt, 4XJBLAzMOJs2z8ZuU58xYg.txt.txt, 6fRJG8V5YwFFEo5DZUcUne.txt.txt, 4kJyV6u8MrjI1xicwDrFwB.txt.txt, 502KYF4vtoelcI3pTA9ZFW.txt.txt, 5oZN9UNY1xxnfYQlGzbL6q.txt.txt, 6NXg90ROJGVecHMl0aiHf2.txt.txt, 0Y39pN5MMK9fAOvRT8jO6g.txt.txt, 36dteplZwERFeuZAkrnTPI.txt.txt, 1Vr6JSWTpl5MIxUHOJ3nny.txt.txt, 5GOKTY0Y4YKQDoSrvXd2NB.txt.txt, 764ECFLRTkP5lGj12ZCpjH.txt.txt, 2ivSEOLx5r0HW3Eh8fPrMQ.txt.txt, 3zZXH7hQw83IYzMn1oWAlz.txt.txt, 5iCzMpRXMOamlgRH3FUvRz.txt.txt,\n",
      "\n",
      "Cluster 3 words: home, old, cry, man, leave, day,\n",
      "Cluster 3 titles: 3XYt8I933kgUzjnmaoVDvm.txt.txt, 0PlyzrcKNoaTo5lAVzZCKE.txt.txt, 46ilYvQHebp419ByvKTJpk.txt.txt, 17a3cv3ra2wKlstmzELkP6.txt.txt, 3YPTYWasmdb0UoMp230b9M.txt.txt, 5wA0InjAoSZedEhGjjm9hR.txt.txt, 78eMv0YRfHsVKK15lE9yKu.txt.txt, 3RzVx12FaYpVZs2gfhk9T6.txt.txt, 6DQeWECybR1XV74yLRJiZn.txt.txt, 28ir1F2AM6Asyu6WgDzkam.txt.txt, 0zawMwpnKXzydDGHk08tcr.txt.txt, 1XktVamzMUTwZfVjHz8c79.txt.txt, 7xoQ5LFlLam4MXkFx4hzUE.txt.txt,\n",
      "\n"
     ]
    }
   ],
   "source": [
    "from __future__ import print_function\n",
    "\n",
    "print(\"Top terms per cluster:\")\n",
    "print()\n",
    "order_centroids = km.cluster_centers_.argsort()[:, ::-1]\n",
    "for i in range(num_clusters):\n",
    "    print(\"Cluster %d words:\" % i, end='')\n",
    "    for ind in order_centroids[i, :6]:\n",
    "        print(' %s' % vocab_frame.ix[terms[ind].split(' ')].values.tolist()[0][0], end=',')\n",
    "    print()\n",
    "    # uncomment for labels\n",
    "    print(\"Cluster %d titles:\" % i, end='')\n",
    "    for title in frame.ix[i]['title'].values.tolist():\n",
    "        print(' %s,' % title, end='')\n",
    "    print()\n",
    "    print()"
   ]
  },
  {
   "cell_type": "markdown",
   "metadata": {},
   "source": [
    "### Multidimensional scaling"
   ]
  },
  {
   "cell_type": "code",
   "execution_count": 56,
   "metadata": {
    "collapsed": false
   },
   "outputs": [],
   "source": [
    "import os  # for os.path.basename\n",
    "import matplotlib.pyplot as plt\n",
    "import matplotlib as mpl\n",
    "\n",
    "from sklearn.manifold import MDS # this is a way of reducing dimensions to plottable 2. TSNE is another.\n",
    "\n",
    "MDS()\n",
    "\n",
    "# two components as we're plotting points in a two-dimensional plane\n",
    "# \"precomputed\" because we provide a distance matrix\n",
    "# we will also specify `random_state` so the plot is reproducible.\n",
    "mds = MDS(n_components=2, dissimilarity=\"precomputed\", random_state=1)\n",
    "\n",
    "pos = mds.fit_transform(dist)  # shape (n_components, n_samples)\n",
    "\n",
    "xs, ys = pos[:, 0], pos[:, 1]"
   ]
  },
  {
   "cell_type": "code",
   "execution_count": 57,
   "metadata": {
    "collapsed": true
   },
   "outputs": [],
   "source": [
    "%matplotlib inline"
   ]
  },
  {
   "cell_type": "markdown",
   "metadata": {},
   "source": [
    "### Visualizing document clusters"
   ]
  },
  {
   "cell_type": "code",
   "execution_count": 58,
   "metadata": {
    "collapsed": true
   },
   "outputs": [],
   "source": [
    "#set up colors per clusters using a dict\n",
    "cluster_colors = {0: '#1b9e77', 1: '#d95f02', 2: '#7570b3', 3: '#e7298a', 4: '#66a61e', 5: 'steelblue'}\n",
    "\n",
    "#set up cluster names using a dict\n",
    "cluster_names = {0: 'bitch, nigga, money, fuck, shit, know', \n",
    "                 1: 'nigga, shit, fuck, bitch, know, cause', \n",
    "                 2: 'know, time, let, make, cause, life', \n",
    "                 3: 'na, wan, wan, gon, gon, baby', \n",
    "                 4: 'girls, know, baby, let, want, coming',\n",
    "                 5: 'love, know, time, baby, think, coming'}"
   ]
  },
  {
   "cell_type": "code",
   "execution_count": 59,
   "metadata": {
    "collapsed": false
   },
   "outputs": [
    {
     "data": {
      "image/png": "[encoded data removed]",
      "text/plain": [
       "<matplotlib.figure.Figure at 0x115b59a10>"
      ]
     },
     "metadata": {},
     "output_type": "display_data"
    }
   ],
   "source": [
    "#create data frame that has the result of the MDS plus the cluster numbers and titles\n",
    "df = pd.DataFrame(dict(x=xs, y=ys, label=clusters, title=track_names)) \n",
    "\n",
    "#group by cluster\n",
    "groups = df.groupby('label')\n",
    "\n",
    "\n",
    "# set up plot\n",
    "fig, ax = plt.subplots(figsize=(17, 9)) # set size\n",
    "ax.margins(0.05) # Optional, just adds 5% padding to the autoscaling\n",
    "\n",
    "#iterate through groups to layer the plot\n",
    "#note that I use the cluster_name and cluster_color dicts with the 'name' lookup to return the appropriate color/label\n",
    "for name, group in groups:\n",
    "    ax.plot(group.x, group.y, marker='o', linestyle='', ms=16, label=cluster_names[name], color=cluster_colors[name], mec='none')\n",
    "    ax.set_aspect('auto')\n",
    "    ax.tick_params(\\\n",
    "        axis= 'x',          # changes apply to the x-axis\n",
    "        which='both',      # both major and minor ticks are affected\n",
    "        bottom='off',      # ticks along the bottom edge are off\n",
    "        top='off',         # ticks along the top edge are off\n",
    "        labelbottom='off')\n",
    "    ax.tick_params(\\\n",
    "        axis= 'y',         # changes apply to the y-axis\n",
    "        which='both',      # both major and minor ticks are affected\n",
    "        left='off',      # ticks along the bottom edge are off\n",
    "        top='off',         # ticks along the top edge are off\n",
    "        labelleft='off')\n",
    "    \n",
    "ax.legend(numpoints=1)  #show legend with only 1 point\n",
    "\n",
    "#add label in x,y position with the label as the film title\n",
    "#for i in range(len(df)):\n",
    "    #ax.text(df.ix[i]['x'], df.ix[i]['y'], df.ix[i]['title'], size=8)  \n",
    "\n",
    "    \n",
    "    \n",
    "plt.show() #show the plot\n",
    "\n",
    "#uncomment the below to save the plot if need be\n",
    "#plt.savefig('./plots/clusters_small_noaxes.png', dpi=200)"
   ]
  },
  {
   "cell_type": "code",
   "execution_count": null,
   "metadata": {
    "collapsed": true
   },
   "outputs": [],
   "source": []
  }
 ],
 "metadata": {
  "kernelspec": {
   "display_name": "Python 2",
   "language": "python",
   "name": "python2"
  },
  "language_info": {
   "codemirror_mode": {
    "name": "ipython",
    "version": 2
   },
   "file_extension": ".py",
   "mimetype": "text/x-python",
   "name": "python",
   "nbconvert_exporter": "python",
   "pygments_lexer": "ipython2",
   "version": "2.7.12"
  }
 },
 "nbformat": 4,
 "nbformat_minor": 0
}
