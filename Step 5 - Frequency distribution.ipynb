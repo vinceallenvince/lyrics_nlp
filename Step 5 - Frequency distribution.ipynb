{
 "cells": [
  {
   "cell_type": "markdown",
   "metadata": {},
   "source": [
    "### Frequency distribution\n",
    "Word counts and frequency distributions by corpus."
   ]
  },
  {
   "cell_type": "code",
   "execution_count": 1,
   "metadata": {
    "collapsed": true
   },
   "outputs": [],
   "source": [
    "from nltk import Text\n",
    "from nltk.corpus.reader import CategorizedPlaintextCorpusReader"
   ]
  },
  {
   "cell_type": "code",
   "execution_count": 2,
   "metadata": {
    "collapsed": false
   },
   "outputs": [],
   "source": [
    "tokenized_corpus = CategorizedPlaintextCorpusReader(\"./corpus/lyrics/tokenized/\", r\".*\\.txt\", cat_pattern=r\"(\\w+)/*\")\n",
    "tfidf_corpus = CategorizedPlaintextCorpusReader(\"./corpus/lyrics/tfidf/\", r\".*\\.txt\", cat_pattern=r\"(\\w+)/*\")"
   ]
  },
  {
   "cell_type": "code",
   "execution_count": 3,
   "metadata": {
    "collapsed": false
   },
   "outputs": [
    {
     "name": "stdout",
     "output_type": "stream",
     "text": [
      "Tokenized corpus total words: 9256900\n"
     ]
    }
   ],
   "source": [
    "if (len(tokenized_corpus.fileids()) > 0):\n",
    "    print \"Tokenized corpus total words: {0}\".format(len(tokenized_corpus.words()))\n",
    "    tokenized_text = Text(tokenized_corpus.words())\n",
    "    fdist_tokenized = tokenized_text.vocab().most_common()\n",
    "if (len(tfidf_corpus.fileids()) > 0):\n",
    "    print \"Tfidf corpus total words: {0}\".format(len(tfidf_corpus.words()))\n",
    "    tfidf_text = Text(tfidf_corpus.words())\n",
    "    fdist_tfidf = tfidf_text.vocab().most_common()"
   ]
  },
  {
   "cell_type": "code",
   "execution_count": 4,
   "metadata": {
    "collapsed": false
   },
   "outputs": [
    {
     "data": {
      "text/plain": [
       "[(u\"'\", 194804),\n",
       " (u'like', 161087),\n",
       " (u'get', 116095),\n",
       " (u'got', 115319),\n",
       " (u'know', 94017),\n",
       " (u'nigga', 81972),\n",
       " (u'niggas', 66966),\n",
       " (u'shit', 64151),\n",
       " (u'cause', 55740),\n",
       " (u'see', 51971)]"
      ]
     },
     "execution_count": 4,
     "metadata": {},
     "output_type": "execute_result"
    }
   ],
   "source": [
    "fdist_tokenized[:10]"
   ]
  },
  {
   "cell_type": "code",
   "execution_count": 5,
   "metadata": {
    "collapsed": false
   },
   "outputs": [
    {
     "ename": "NameError",
     "evalue": "name 'fdist_tfidf' is not defined",
     "output_type": "error",
     "traceback": [
      "\u001b[0;31m---------------------------------------------------------------------------\u001b[0m",
      "\u001b[0;31mNameError\u001b[0m                                 Traceback (most recent call last)",
      "\u001b[0;32m<ipython-input-5-702d7a18f27e>\u001b[0m in \u001b[0;36m<module>\u001b[0;34m()\u001b[0m\n\u001b[0;32m----> 1\u001b[0;31m \u001b[0mfdist_tfidf\u001b[0m\u001b[0;34m[\u001b[0m\u001b[0;34m:\u001b[0m\u001b[0;36m10\u001b[0m\u001b[0;34m]\u001b[0m\u001b[0;34m\u001b[0m\u001b[0m\n\u001b[0m",
      "\u001b[0;31mNameError\u001b[0m: name 'fdist_tfidf' is not defined"
     ]
    }
   ],
   "source": [
    "fdist_tfidf[:10]"
   ]
  },
  {
   "cell_type": "code",
   "execution_count": null,
   "metadata": {
    "collapsed": true
   },
   "outputs": [],
   "source": []
  }
 ],
 "metadata": {
  "kernelspec": {
   "display_name": "Python 2",
   "language": "python",
   "name": "python2"
  },
  "language_info": {
   "codemirror_mode": {
    "name": "ipython",
    "version": 2
   },
   "file_extension": ".py",
   "mimetype": "text/x-python",
   "name": "python",
   "nbconvert_exporter": "python",
   "pygments_lexer": "ipython2",
   "version": "2.7.12"
  }
 },
 "nbformat": 4,
 "nbformat_minor": 0
}
