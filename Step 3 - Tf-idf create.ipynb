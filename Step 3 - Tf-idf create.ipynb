{
 "cells": [
  {
   "cell_type": "markdown",
   "metadata": {},
   "source": [
    "### Step 2 - Tf-idf create\n",
    "Create a file with tfidf scores for each word in the corpus."
   ]
  },
  {
   "cell_type": "markdown",
   "metadata": {},
   "source": [
    "WARNING: This process can take several hours."
   ]
  },
  {
   "cell_type": "code",
   "execution_count": 1,
   "metadata": {
    "collapsed": true
   },
   "outputs": [],
   "source": [
    "from __future__ import division\n",
    "from nltk.corpus.reader import CategorizedPlaintextCorpusReader\n",
    "import pandas as pd\n",
    "from pandas import Series\n",
    "from nltk.text import TextCollection"
   ]
  },
  {
   "cell_type": "code",
   "execution_count": 2,
   "metadata": {
    "collapsed": false
   },
   "outputs": [],
   "source": [
    "corpus = CategorizedPlaintextCorpusReader(\"./corpus/lyrics/tokenized/\", r\".*\\.txt\", cat_pattern=r\"(\\w+)/*\")"
   ]
  },
  {
   "cell_type": "code",
   "execution_count": 3,
   "metadata": {
    "collapsed": false
   },
   "outputs": [],
   "source": [
    "lyrics = []\n",
    "for filen in corpus.fileids():\n",
    "    with open(\"./corpus/lyrics/tokenized/\" + filen, 'rb') as handle:\n",
    "        lyrics.append(handle.read())"
   ]
  },
  {
   "cell_type": "code",
   "execution_count": 4,
   "metadata": {
    "collapsed": true
   },
   "outputs": [],
   "source": [
    "import collections\n",
    "from nltk import Text\n",
    "\n",
    "def compute_tfidf_by_doc(coll, texts, filenames):\n",
    "    tfidf_by_doc = collections.defaultdict(list)\n",
    "    for i, text in enumerate(texts):\n",
    "        for word in set(text.split(\" \")):   # just use the words in this text\n",
    "            tfidfscore = coll.tf_idf(word, text)\n",
    "            tf = coll.tf(word, text) # is actually count / len(text)\n",
    "            count = text.count(word)\n",
    "            if tfidfscore:\n",
    "                tfidf_by_doc[filenames[i]].append({\n",
    "                    \"word\": word,\n",
    "                    \"tfidf\": tfidfscore\n",
    "                    #\"tf\": tf,\n",
    "                    #\"count\": count\n",
    "                })\n",
    "    return tfidf_by_doc"
   ]
  },
  {
   "cell_type": "code",
   "execution_count": 5,
   "metadata": {
    "collapsed": false
   },
   "outputs": [],
   "source": [
    "# We need to make the text collection, then use it to compute the tf-idf for the words in the docs.\n",
    "collection = TextCollection(corpus)"
   ]
  },
  {
   "cell_type": "code",
   "execution_count": 6,
   "metadata": {
    "collapsed": false
   },
   "outputs": [
    {
     "data": {
      "text/plain": [
       "'telling everyone town treat right even say stay away come home night losing got thanks lot thanks lot seems like hurt know good give anything anything want really got spot thanks lot thanks lot still would forgive let glad could try seems get looks win matter always love never know hurts see calling things know thanks lot thanks lot matter always love never know hurts see say happy know thanks lot thanks lot thanks lot '"
      ]
     },
     "execution_count": 6,
     "metadata": {},
     "output_type": "execute_result"
    }
   ],
   "source": [
    "# Use the first set of lyrics to test out idf and tf_idf scores.\n",
    "# low tf_idf score - A word like 'yeah' should appear frequently in all songs.\n",
    "# high tf_idf score - A word like 'feel' may not appear frequently in all songs but occur a lot in a specific song.\n",
    "lyrics[0]"
   ]
  },
  {
   "cell_type": "code",
   "execution_count": 13,
   "metadata": {
    "collapsed": false
   },
   "outputs": [
    {
     "data": {
      "text/plain": [
       "0.00511491806312874"
      ]
     },
     "execution_count": 13,
     "metadata": {},
     "output_type": "execute_result"
    }
   ],
   "source": [
    "collection.tf_idf(\"love\", lyrics[0])"
   ]
  },
  {
   "cell_type": "code",
   "execution_count": 14,
   "metadata": {
    "collapsed": false
   },
   "outputs": [
    {
     "data": {
      "text/plain": [
       "0.01063219401368527"
      ]
     },
     "execution_count": 14,
     "metadata": {},
     "output_type": "execute_result"
    }
   ],
   "source": [
    "collection.tf_idf(\"know\", lyrics[0])"
   ]
  },
  {
   "cell_type": "code",
   "execution_count": 15,
   "metadata": {
    "collapsed": false
   },
   "outputs": [
    {
     "data": {
      "text/plain": [
       "0.08675611582778127"
      ]
     },
     "execution_count": 15,
     "metadata": {},
     "output_type": "execute_result"
    }
   ],
   "source": [
    "collection.tf_idf(\"thanks\", lyrics[0])"
   ]
  },
  {
   "cell_type": "code",
   "execution_count": 10,
   "metadata": {
    "collapsed": false
   },
   "outputs": [
    {
     "name": "stdout",
     "output_type": "stream",
     "text": [
      "CPU times: user 5.61 s, sys: 902 ms, total: 6.51 s\n",
      "Wall time: 6.93 s\n"
     ]
    }
   ],
   "source": [
    "# creates the following dictionary w filename as the key and list of word, counts, tf and tfidf scores. \n",
    "# defaultdict(list,\n",
    "    # {'04CpzA2BdOLEz7EMp5uwTU.txt': [{'count': 1,\n",
    "        # 'tf': 0.006211180124223602,\n",
    "        # 'tfidf': 0.01568775555470966,\n",
    "        # 'word': 'summer'},\n",
    "        # {'count': 1,\n",
    "        # 'tf': 0.006211180124223602,\n",
    "        # 'tfidf': 0.01999301754576522,\n",
    "        # 'word': 'nights'},\n",
    "%time tfidfs = compute_tfidf_by_doc(collection, lyrics, corpus.fileids())"
   ]
  },
  {
   "cell_type": "code",
   "execution_count": 11,
   "metadata": {
    "collapsed": false
   },
   "outputs": [
    {
     "data": {
      "text/plain": [
       "59"
      ]
     },
     "execution_count": 11,
     "metadata": {},
     "output_type": "execute_result"
    }
   ],
   "source": [
    "len(tfidfs)"
   ]
  },
  {
   "cell_type": "markdown",
   "metadata": {},
   "source": [
    "### Save tfidf json"
   ]
  },
  {
   "cell_type": "code",
   "execution_count": 12,
   "metadata": {
    "collapsed": true
   },
   "outputs": [],
   "source": [
    "import json\n",
    "jsonified = json.dumps(tfidfs)\n",
    "with open('./corpus/lyrics_tfidf.json', 'w') as handle:\n",
    "    handle.write(jsonified)"
   ]
  }
 ],
 "metadata": {
  "kernelspec": {
   "display_name": "Python 2",
   "language": "python",
   "name": "python2"
  },
  "language_info": {
   "codemirror_mode": {
    "name": "ipython",
    "version": 2
   },
   "file_extension": ".py",
   "mimetype": "text/x-python",
   "name": "python",
   "nbconvert_exporter": "python",
   "pygments_lexer": "ipython2",
   "version": "2.7.12"
  }
 },
 "nbformat": 4,
 "nbformat_minor": 0
}
