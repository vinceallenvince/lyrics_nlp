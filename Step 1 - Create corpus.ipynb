{
 "cells": [
  {
   "cell_type": "markdown",
   "metadata": {},
   "source": [
    "### Step 1 - Create corpus\n",
    "Creates a gzipped DataFrame from a corpus of raw text files."
   ]
  },
  {
   "cell_type": "code",
   "execution_count": 32,
   "metadata": {
    "collapsed": true
   },
   "outputs": [],
   "source": [
    "from nltk.corpus.reader import CategorizedPlaintextCorpusReader\n",
    "from pandas import DataFrame\n",
    "import numpy as np"
   ]
  },
  {
   "cell_type": "code",
   "execution_count": 33,
   "metadata": {
    "collapsed": false
   },
   "outputs": [],
   "source": [
    "corpus = CategorizedPlaintextCorpusReader(\"./corpus/lyrics/raw/\", r\".*\\.txt\", cat_pattern=r\"(\\w+)/*\")"
   ]
  },
  {
   "cell_type": "code",
   "execution_count": 34,
   "metadata": {
    "collapsed": false
   },
   "outputs": [
    {
     "data": {
      "text/html": [
       "<div>\n",
       "<table border=\"1\" class=\"dataframe\">\n",
       "  <thead>\n",
       "    <tr style=\"text-align: right;\">\n",
       "      <th></th>\n",
       "      <th>uri</th>\n",
       "      <th>lyrics</th>\n",
       "    </tr>\n",
       "  </thead>\n",
       "  <tbody>\n",
       "    <tr>\n",
       "      <th>0</th>\n",
       "      <td>036B7lKiRkLerLGI6EHtEr.txt</td>\n",
       "      <td>[Thanks A Lot]\\n[Verse]\\nYou're telling everyo...</td>\n",
       "    </tr>\n",
       "    <tr>\n",
       "      <th>1</th>\n",
       "      <td>0Avmi9t3sOcaGSs1DSbgDg.txt</td>\n",
       "      <td>[Folsom Prison Blues]\\nI hear the train a comi...</td>\n",
       "    </tr>\n",
       "    <tr>\n",
       "      <th>2</th>\n",
       "      <td>0FR4Ua3VxoSVA7DOFtdPlO.txt</td>\n",
       "      <td>[Drink To Me]\\n[Chorus]\\nDrink to me, drink to...</td>\n",
       "    </tr>\n",
       "    <tr>\n",
       "      <th>3</th>\n",
       "      <td>0KSHmjK7OFtGocvbo7NZNO.txt</td>\n",
       "      <td>[Five Feet High And Rising]\\n[Chorus]\\nHow hig...</td>\n",
       "    </tr>\n",
       "    <tr>\n",
       "      <th>4</th>\n",
       "      <td>0PlyzrcKNoaTo5lAVzZCKE.txt</td>\n",
       "      <td>[Ballad Of A Teenage Queen]\\n(Dream on, dream ...</td>\n",
       "    </tr>\n",
       "  </tbody>\n",
       "</table>\n",
       "</div>"
      ],
      "text/plain": [
       "                          uri  \\\n",
       "0  036B7lKiRkLerLGI6EHtEr.txt   \n",
       "1  0Avmi9t3sOcaGSs1DSbgDg.txt   \n",
       "2  0FR4Ua3VxoSVA7DOFtdPlO.txt   \n",
       "3  0KSHmjK7OFtGocvbo7NZNO.txt   \n",
       "4  0PlyzrcKNoaTo5lAVzZCKE.txt   \n",
       "\n",
       "                                              lyrics  \n",
       "0  [Thanks A Lot]\\n[Verse]\\nYou're telling everyo...  \n",
       "1  [Folsom Prison Blues]\\nI hear the train a comi...  \n",
       "2  [Drink To Me]\\n[Chorus]\\nDrink to me, drink to...  \n",
       "3  [Five Feet High And Rising]\\n[Chorus]\\nHow hig...  \n",
       "4  [Ballad Of A Teenage Queen]\\n(Dream on, dream ...  "
      ]
     },
     "execution_count": 34,
     "metadata": {},
     "output_type": "execute_result"
    }
   ],
   "source": [
    "lyrics = []\n",
    "for filen in corpus.fileids():\n",
    "    with open(\"./corpus/lyrics/raw/\" + filen, 'rb') as handle:\n",
    "        lyrics.append(handle.read())\n",
    "        \n",
    "arr = np.array([corpus.fileids(), lyrics])\n",
    "lyrics_df = DataFrame(arr.transpose(), columns=['uri', 'lyrics'])\n",
    "lyrics_df.head()"
   ]
  },
  {
   "cell_type": "code",
   "execution_count": 36,
   "metadata": {
    "collapsed": false
   },
   "outputs": [
    {
     "name": "stdout",
     "output_type": "stream",
     "text": [
      "<class 'pandas.core.frame.DataFrame'>\n",
      "RangeIndex: 59 entries, 0 to 58\n",
      "Data columns (total 2 columns):\n",
      "uri       59 non-null object\n",
      "lyrics    59 non-null object\n",
      "dtypes: object(2)\n",
      "memory usage: 1016.0+ bytes\n"
     ]
    }
   ],
   "source": [
    "lyrics_df.info()"
   ]
  },
  {
   "cell_type": "code",
   "execution_count": 35,
   "metadata": {
    "collapsed": true
   },
   "outputs": [],
   "source": [
    "lyrics_df.to_csv(\"./corpus/lyrics/lyrics_raw.gz\", compression=\"gzip\", header=None)"
   ]
  }
 ],
 "metadata": {
  "kernelspec": {
   "display_name": "Python 2",
   "language": "python",
   "name": "python2"
  },
  "language_info": {
   "codemirror_mode": {
    "name": "ipython",
    "version": 2
   },
   "file_extension": ".py",
   "mimetype": "text/x-python",
   "name": "python",
   "nbconvert_exporter": "python",
   "pygments_lexer": "ipython2",
   "version": "2.7.12"
  }
 },
 "nbformat": 4,
 "nbformat_minor": 0
}
