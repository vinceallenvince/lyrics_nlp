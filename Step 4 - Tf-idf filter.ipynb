{
 "cells": [
  {
   "cell_type": "markdown",
   "metadata": {},
   "source": [
    "### Step 3 - Tf-idf filter\n",
    "Use the Tf-idf analysis to filter words."
   ]
  },
  {
   "cell_type": "code",
   "execution_count": 51,
   "metadata": {
    "collapsed": true
   },
   "outputs": [],
   "source": [
    "from __future__ import division\n",
    "from nltk.corpus.reader import CategorizedPlaintextCorpusReader\n",
    "import pandas as pd\n",
    "from pandas import Series\n",
    "import json"
   ]
  },
  {
   "cell_type": "code",
   "execution_count": 52,
   "metadata": {
    "collapsed": true
   },
   "outputs": [],
   "source": [
    "FILTER_THRESHOLD = 0.003"
   ]
  },
  {
   "cell_type": "code",
   "execution_count": 53,
   "metadata": {
    "collapsed": true
   },
   "outputs": [],
   "source": [
    "def loadSourceJSON():\n",
    "  with open('./corpus/lyrics_tfidf.json', 'r') as infile:    \n",
    "    return json.load(infile)"
   ]
  },
  {
   "cell_type": "code",
   "execution_count": 54,
   "metadata": {
    "collapsed": false
   },
   "outputs": [],
   "source": [
    "corpus = CategorizedPlaintextCorpusReader(\"./corpus/lyrics/tokenized/\", r\".*\\.txt\", cat_pattern=r\"(\\w+)/*\")"
   ]
  },
  {
   "cell_type": "code",
   "execution_count": 55,
   "metadata": {
    "collapsed": false
   },
   "outputs": [
    {
     "data": {
      "text/plain": [
       "036B7lKiRkLerLGI6EHtEr.txt.txt    telling everyone town treat right even say sta...\n",
       "0Avmi9t3sOcaGSs1DSbgDg.txt.txt    hear train comin' rolling bend seen sunshine s...\n",
       "0FR4Ua3VxoSVA7DOFtdPlO.txt.txt    drink drink drink drink drink rose carnation l...\n",
       "0KSHmjK7OFtGocvbo7NZNO.txt.txt    high water mama two feet high rising high wate...\n",
       "0PlyzrcKNoaTo5lAVzZCKE.txt.txt    dream dream teenage queen prettiest girl ever ...\n",
       "dtype: object"
      ]
     },
     "execution_count": 55,
     "metadata": {},
     "output_type": "execute_result"
    }
   ],
   "source": [
    "lyrics = []\n",
    "for filen in corpus.fileids():\n",
    "    with open(\"./corpus/lyrics/tokenized/\" + filen, 'rb') as handle:\n",
    "        lyrics.append(handle.read().strip())\n",
    "\n",
    "# create a Series to index lyrics by filename\n",
    "lyrics_by_file = Series(lyrics,index=corpus.fileids())\n",
    "lyrics_by_file.head()"
   ]
  },
  {
   "cell_type": "code",
   "execution_count": 56,
   "metadata": {
    "collapsed": false
   },
   "outputs": [],
   "source": [
    "# creates the following dictionary w filename as the key and list of word, counts, tf and tfidf scores. \n",
    "# defaultdict(list,\n",
    "    # {'04CpzA2BdOLEz7EMp5uwTU.txt': [{'count': 1,\n",
    "        # 'tf': 0.006211180124223602,\n",
    "        # 'tfidf': 0.01568775555470966,\n",
    "        # 'word': 'summer'},\n",
    "        # {'count': 1,\n",
    "        # 'tf': 0.006211180124223602,\n",
    "        # 'tfidf': 0.01999301754576522,\n",
    "        # 'word': 'nights'},\n",
    "tfidfs = loadSourceJSON()"
   ]
  },
  {
   "cell_type": "code",
   "execution_count": 57,
   "metadata": {
    "collapsed": false
   },
   "outputs": [
    {
     "data": {
      "text/plain": [
       "5yrEDH9bh0UgOoCwS7NmKZ.txt.txt    troubadour troubadour troubadour troubadour tr...\n",
       "78eMv0YRfHsVKK15lE9yKu.txt.txt    good lord willing creek stays arms moon taste ...\n",
       "3YPTYWasmdb0UoMp230b9M.txt.txt    sailed ship john grandfather around nassau tow...\n",
       "0doe6BX5PtV8BDH0IffSdQ.txt.txt    tell left tell cried tell stayed around tell l...\n",
       "5iCzMpRXMOamlgRH3FUvRz.txt.txt    run softly blue river darlin asleep run softly...\n",
       "dtype: object"
      ]
     },
     "execution_count": 57,
     "metadata": {},
     "output_type": "execute_result"
    }
   ],
   "source": [
    "def diff(first, second):\n",
    "        second = set(second)\n",
    "        return [item for item in first if item not in second]\n",
    "\n",
    "lyrics_tfidf = []\n",
    "filenames = []\n",
    "for filen in tfidfs: # iterate of tfidfs\n",
    "    words = tfidfs[filen] # select filename\n",
    "    low_score = []\n",
    "    for word in words: # iterate over words\n",
    "        if word['tfidf'] < FILTER_THRESHOLD: # remove words w a low tfidf \n",
    "            low_score.append(word['word'])\n",
    "            \n",
    "    lyrics_tfidf.append(' '.join(diff(lyrics_by_file[filen].split(' '), low_score)))\n",
    "    filenames.append(filen)\n",
    "\n",
    "lyrics_tfidf_by_file = Series(lyrics_tfidf,index=filenames)\n",
    "lyrics_tfidf_by_file.head()"
   ]
  },
  {
   "cell_type": "code",
   "execution_count": 58,
   "metadata": {
    "collapsed": false
   },
   "outputs": [
    {
     "name": "stdout",
     "output_type": "stream",
     "text": [
      "total raw tokens: 5056\n",
      "total clean tokens: 4762\n",
      "6% reduction\n"
     ]
    }
   ],
   "source": [
    "total_raw_tokens = 0\n",
    "for filen, lyrics in lyrics_by_file.iteritems():\n",
    "    total_raw_tokens += len(lyrics.split(' '))\n",
    "\n",
    "total_tfidf_tokens = 0\n",
    "lyrics_tfidf = \"\"\n",
    "for filen, lyrics in lyrics_tfidf_by_file.iteritems():\n",
    "    total_tfidf_tokens += len(lyrics.split(' '))\n",
    "    lyrics_tfidf = lyrics_tfidf + lyrics\n",
    "    \n",
    "print \"total raw tokens: {0}\".format(total_raw_tokens)\n",
    "print \"total clean tokens: {0}\".format(total_tfidf_tokens)\n",
    "print \"{0:.0f}% reduction\".format(100 - total_tfidf_tokens / total_raw_tokens * 100)"
   ]
  },
  {
   "cell_type": "markdown",
   "metadata": {},
   "source": [
    "### Save tf_idf tokens"
   ]
  },
  {
   "cell_type": "code",
   "execution_count": 59,
   "metadata": {
    "collapsed": true
   },
   "outputs": [],
   "source": [
    "def writeFile(path, text):\n",
    "    text_file = open(path, \"w\") \n",
    "    text_file.write(text + \" \")\n",
    "    text_file.close()"
   ]
  },
  {
   "cell_type": "code",
   "execution_count": 60,
   "metadata": {
    "collapsed": false
   },
   "outputs": [],
   "source": [
    "for filen, lyrics in lyrics_tfidf_by_file.iteritems():\n",
    "    writeFile(\"./corpus/lyrics/tfidf/\" + filen, lyrics)"
   ]
  },
  {
   "cell_type": "code",
   "execution_count": null,
   "metadata": {
    "collapsed": true
   },
   "outputs": [],
   "source": []
  }
 ],
 "metadata": {
  "kernelspec": {
   "display_name": "Python 2",
   "language": "python",
   "name": "python2"
  },
  "language_info": {
   "codemirror_mode": {
    "name": "ipython",
    "version": 2
   },
   "file_extension": ".py",
   "mimetype": "text/x-python",
   "name": "python",
   "nbconvert_exporter": "python",
   "pygments_lexer": "ipython2",
   "version": "2.7.12"
  }
 },
 "nbformat": 4,
 "nbformat_minor": 0
}
